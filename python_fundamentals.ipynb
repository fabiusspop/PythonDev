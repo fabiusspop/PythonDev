{
 "cells": [
  {
   "cell_type": "code",
   "execution_count": null,
   "id": "2e7b2935-6edf-4b64-943d-1dd1b36ecf81",
   "metadata": {},
   "outputs": [],
   "source": [
    "# Fundamental Data Types\n",
    "int\n",
    "float\n",
    "bool\n",
    "str\n",
    "list\n",
    "tuple\n",
    "set\n",
    "dict"
   ]
  },
  {
   "cell_type": "code",
   "execution_count": null,
   "id": "4d2667fd-0d1c-4c1d-bfc1-3dc547d06543",
   "metadata": {},
   "outputs": [],
   "source": [
    "# Classes -> Custom Types"
   ]
  },
  {
   "cell_type": "code",
   "execution_count": null,
   "id": "86ae8e63-a5e8-439e-99e5-59b7be8ebedd",
   "metadata": {},
   "outputs": [],
   "source": [
    "# Specialized Data Types"
   ]
  },
  {
   "cell_type": "code",
   "execution_count": null,
   "id": "0fc995f0-e3bc-4a8a-8c2a-8eef36fbc91d",
   "metadata": {},
   "outputs": [],
   "source": [
    "# Another special type: \n",
    "None # absence of value"
   ]
  },
  {
   "cell_type": "code",
   "execution_count": 15,
   "id": "c305c879-2304-418b-b21a-6f94824052a5",
   "metadata": {
    "collapsed": true,
    "jupyter": {
     "outputs_hidden": true
    },
    "scrolled": true
   },
   "outputs": [
    {
     "name": "stdout",
     "output_type": "stream",
     "text": [
      "<class 'int'>\n",
      "<class 'int'>\n",
      "<class 'int'>\n",
      "<class 'float'>\n",
      "<class 'int'>\n",
      "<class 'float'>\n",
      "<class 'float'>\n",
      "8\n",
      "0\n",
      "1\n"
     ]
    }
   ],
   "source": [
    "# Fundamental Data Types\n",
    "# Numbers\n",
    "print(type(2 + 4))\n",
    "print(type(2 - 4))\n",
    "print(type(2 * 4))\n",
    "print(type(2 / 4))\n",
    "print(type(0))\n",
    "print(type(20 + 1.1))\n",
    "print(type(9.9 + 1.1))\n",
    "9.9 + 1.1\n",
    "print(2 ** 3)\n",
    "print(2 // 4) # ret an integer rounded down\n",
    "print(5 % 4)"
   ]
  },
  {
   "cell_type": "code",
   "execution_count": 22,
   "id": "26a00af8-6630-4cb3-93dc-b1be45d539e5",
   "metadata": {},
   "outputs": [
    {
     "name": "stdout",
     "output_type": "stream",
     "text": [
      "3\n",
      "4\n",
      "20\n"
     ]
    }
   ],
   "source": [
    "# Math Functions\n",
    "print(round(3.1))\n",
    "print(round(3.9))\n",
    "\n",
    "print(abs(-20))"
   ]
  },
  {
   "cell_type": "code",
   "execution_count": 26,
   "id": "0e0ff8be-42a6-4772-8f0f-53ef86c476ae",
   "metadata": {},
   "outputs": [
    {
     "name": "stdout",
     "output_type": "stream",
     "text": [
      "21\n"
     ]
    }
   ],
   "source": [
    "# Operator Precedence\n",
    "print((20 - 3) + 2 ** 2)\n",
    "# ()\n",
    "# ** \n",
    "# * /\n",
    "# + -"
   ]
  },
  {
   "cell_type": "code",
   "execution_count": null,
   "id": "2c909b8b-7d98-4776-b92f-669b0855f237",
   "metadata": {},
   "outputs": [],
   "source": [
    "# Extra data type \n",
    "complex"
   ]
  },
  {
   "cell_type": "code",
   "execution_count": 30,
   "id": "e808e374-f261-4fd9-ae69-ba7000600f47",
   "metadata": {},
   "outputs": [
    {
     "name": "stdout",
     "output_type": "stream",
     "text": [
      "0b101\n",
      "5\n"
     ]
    }
   ],
   "source": [
    "# bin()\n",
    "print(bin(5))\n",
    "print(int('0b101', 2))"
   ]
  },
  {
   "cell_type": "code",
   "execution_count": 36,
   "id": "95c4f0b1-6155-49e3-8264-1ced03983c91",
   "metadata": {},
   "outputs": [
    {
     "name": "stdout",
     "output_type": "stream",
     "text": [
      "190\n",
      "47.5\n",
      "47.5\n"
     ]
    }
   ],
   "source": [
    "# Variables\n",
    "user_iq = 190\n",
    "user_age = user_iq / 4\n",
    "a = user_age\n",
    "\n",
    "print(user_iq)\n",
    "print(user_age)\n",
    "print(a)"
   ]
  },
  {
   "cell_type": "code",
   "execution_count": 43,
   "id": "0af97eba-69f8-4806-830f-47e57386489a",
   "metadata": {},
   "outputs": [
    {
     "name": "stdout",
     "output_type": "stream",
     "text": [
      "0\n"
     ]
    }
   ],
   "source": [
    "# constants\n",
    "PI = 3.14\n",
    "PI = 0\n",
    "print(PI)"
   ]
  },
  {
   "cell_type": "code",
   "execution_count": 39,
   "id": "38df0319-876d-43f6-8f50-c2ddd3607f7e",
   "metadata": {},
   "outputs": [],
   "source": [
    "# __ --> DUNDER variables\n",
    "# you shouldn't use __ when naming variables"
   ]
  },
  {
   "cell_type": "code",
   "execution_count": 44,
   "id": "2cf058ca-3832-45f1-978d-34f0860c6241",
   "metadata": {},
   "outputs": [
    {
     "name": "stdout",
     "output_type": "stream",
     "text": [
      "1\n",
      "2\n",
      "3\n"
     ]
    }
   ],
   "source": [
    "a, b, c = 1, 2, 3\n",
    "print(a)\n",
    "print(b)\n",
    "print(c)"
   ]
  },
  {
   "cell_type": "code",
   "execution_count": 46,
   "id": "05fae5cc-0075-4c3a-8ba2-ed4ec233c6da",
   "metadata": {},
   "outputs": [],
   "source": [
    "# Expressions vs Statements\n",
    "iq = 100 # this is also a statement\n",
    "user_age = iq / 5 \n",
    "# Statement is the entire line of code \n",
    "# Expression -> iq / 5\n"
   ]
  },
  {
   "cell_type": "code",
   "execution_count": 50,
   "id": "1029f3ad-16e1-4bf3-ab76-307a23c424c3",
   "metadata": {
    "collapsed": true,
    "jupyter": {
     "outputs_hidden": true
    }
   },
   "outputs": [
    {
     "name": "stdout",
     "output_type": "stream",
     "text": [
      "7\n",
      "9\n",
      "7\n",
      "14\n"
     ]
    }
   ],
   "source": [
    "# Augmented assignment operator\n",
    "some_value = 5\n",
    "some_value = some_value + 2\n",
    "print(some_value)\n",
    "\n",
    "some_value += 2\n",
    "print(some_value)\n",
    "\n",
    "some_value -= 2 \n",
    "print(some_value)\n",
    "\n",
    "some_value *= 2\n",
    "print(some_value)"
   ]
  },
  {
   "cell_type": "code",
   "execution_count": 59,
   "id": "4c02f37d-3058-4889-a6a2-8b4f8de02461",
   "metadata": {},
   "outputs": [
    {
     "name": "stdout",
     "output_type": "stream",
     "text": [
      "hi\n",
      "<class 'str'>\n",
      "\n",
      "WOW\n",
      "O O\n",
      "---\n",
      "\n",
      "John Doe\n"
     ]
    }
   ],
   "source": [
    "# Strings \n",
    "print('hi')\n",
    "print(type('hi'))\n",
    "\n",
    "username = 'supercoder'\n",
    "password = 'supersecret'\n",
    "\n",
    "long_string = '''\n",
    "WOW\n",
    "O O\n",
    "---\n",
    "'''\n",
    "\n",
    "print(long_string)\n",
    "\n",
    "first_name = 'John'\n",
    "last_name = 'Doe'\n",
    "full_name = first_name + ' ' + last_name\n",
    "print(full_name)"
   ]
  },
  {
   "cell_type": "code",
   "execution_count": 64,
   "id": "1de08219-1b3a-4499-870e-7b6573fc8046",
   "metadata": {},
   "outputs": [
    {
     "name": "stdout",
     "output_type": "stream",
     "text": [
      "hello FSP\n"
     ]
    }
   ],
   "source": [
    "# String concatenation\n",
    "print('hello' + ' FSP')"
   ]
  },
  {
   "cell_type": "code",
   "execution_count": 70,
   "id": "46be5676-d968-4be2-8a6b-c558b8fd4df1",
   "metadata": {},
   "outputs": [
    {
     "name": "stdout",
     "output_type": "stream",
     "text": [
      "100\n",
      "<class 'str'>\n",
      "<class 'int'>\n",
      "\n",
      "<class 'int'>\n"
     ]
    }
   ],
   "source": [
    "# Type conversion\n",
    "print(str(100))\n",
    "print(type(str(100)))\n",
    "print(type(int(str(100))))\n",
    "print()\n",
    "a = str(100)\n",
    "b = int(a)\n",
    "c = type(b)\n",
    "print(c)"
   ]
  },
  {
   "cell_type": "code",
   "execution_count": 80,
   "id": "74d8ded0-3f5e-4bef-8062-088324136a53",
   "metadata": {},
   "outputs": [
    {
     "name": "stdout",
     "output_type": "stream",
     "text": [
      "It's \"kind of\" sunny\n",
      "\t This will insert a tab\n",
      " Bla bla bla \n",
      " this inserts a new line\n"
     ]
    }
   ],
   "source": [
    "# Escape sequences\n",
    "# weather = \"It's sunny\"\n",
    "weather = \"It\\'s \\\"kind of\\\" sunny\"\n",
    "print(weather)\n",
    "\n",
    "tab = \"\\t This will insert a tab\"\n",
    "print(tab)\n",
    "\n",
    "newL = \" Bla bla bla \\n this inserts a new line\"\n",
    "print(newL)"
   ]
  },
  {
   "cell_type": "code",
   "execution_count": 102,
   "id": "53bf0f16-5c43-4b40-92af-6d3df7a487bf",
   "metadata": {},
   "outputs": [
    {
     "name": "stdout",
     "output_type": "stream",
     "text": [
      "Hi Johnny. You are 55 years old\n",
      "hi Johnny. You are 55 years old. \n",
      "\n",
      "hi Johnny. You are 55 years old.\n",
      "hiii Johnny. You are 55 years old.\n",
      "hiii 55. You are Johnny years old.\n",
      "hiii Jane. You are 44 years old.\n"
     ]
    }
   ],
   "source": [
    "# Formatted strings\n",
    "name = 'Johnny'\n",
    "age = 55\n",
    "\n",
    "print(\"Hi \" + name + \". You are \" + str(age) + \" years old\")\n",
    "\n",
    "print(f'hi {name}. You are {age} years old. \\n') # formatted string\n",
    "\n",
    "# in python 2: ------------------------------------------- \n",
    "print('hi {}. You are {} years old.'.format('Johnny', '55'))\n",
    "print('hiii {}. You are {} years old.'.format(name, age))\n",
    "print('hiii {1}. You are {0} years old.'.format(name, age))\n",
    "print('hiii {new_name}. You are {age} years old.'.format(new_name='Jane', age=44))\n",
    "# ---------------------------------------------------------"
   ]
  },
  {
   "cell_type": "code",
   "execution_count": 117,
   "id": "91265efc-92df-4166-a5c3-ff915f32fdf6",
   "metadata": {
    "collapsed": true,
    "jupyter": {
     "outputs_hidden": true
    }
   },
   "outputs": [
    {
     "name": "stdout",
     "output_type": "stream",
     "text": [
      "0\n",
      "01234567\n",
      "01\n",
      "01234567\n",
      "0246\n",
      "1234567\n",
      "01234\n",
      "01234567\n",
      "0246\n",
      "7\n",
      "76543210\n",
      "7531\n"
     ]
    }
   ],
   "source": [
    "# String indexes\n",
    "# think of a bookshelf\n",
    "\n",
    "#'me me me'\n",
    "# 01234567\n",
    "\n",
    "selfish = '01234567'\n",
    "        #  01234567\n",
    "\n",
    "print(selfish[0])\n",
    "print(selfish)\n",
    "\n",
    "# [start :  stop]\n",
    "print(selfish[0:2])\n",
    "print(selfish[0:8]) # get the full string\n",
    "\n",
    "# [start:stop:stepover]\n",
    "print(selfish[0:8:2])\n",
    "print(selfish[1: ])\n",
    "print(selfish[:5])\n",
    "print(selfish[::1])\n",
    "print(selfish[::2])\n",
    "print(selfish[-1]) # negative index -> start from the end of the string\n",
    "\n",
    "print(selfish[::-1])\n",
    "print(selfish[::-2])"
   ]
  },
  {
   "cell_type": "code",
   "execution_count": 120,
   "id": "2ceb749b-29cd-49d8-9547-5e1d35994d5e",
   "metadata": {},
   "outputs": [
    {
     "name": "stdout",
     "output_type": "stream",
     "text": [
      "100\n",
      "8\n"
     ]
    }
   ],
   "source": [
    "# Immutability\n",
    "# Strings in python are immutable\n",
    "selfish = '01234567'\n",
    "selfish = 100\n",
    "print(selfish)\n",
    "\n",
    "# selfish[0] = 8 ---> DOES NOT WORK\n",
    "# you can t reassign part of a string\n",
    "# you have to completely reassign the value\n",
    "selfish = '8'\n",
    "print(selfish)"
   ]
  },
  {
   "cell_type": "code",
   "execution_count": 8,
   "id": "08b345ec-3242-47f8-ad93-641488d3555a",
   "metadata": {},
   "outputs": [
    {
     "name": "stdout",
     "output_type": "stream",
     "text": [
      "hellooo\n",
      "hellooo\n",
      "TO BE OR NOT TO BE\n",
      "To be or not to be\n",
      "3\n",
      "to me or not to me\n",
      "to be or not to be\n"
     ]
    }
   ],
   "source": [
    "# Built-in functions + Methods\n",
    "\n",
    "greet = 'hellooo'\n",
    "print(greet[:])\n",
    "print(greet[0:len(greet)])\n",
    "\n",
    "quote = 'to be or not to be'\n",
    "\n",
    "print(quote.upper())\n",
    "print(quote.capitalize())\n",
    "print(quote.find('be'))\n",
    "print(quote.replace('be', 'me'))\n",
    "print(quote)"
   ]
  },
  {
   "cell_type": "code",
   "execution_count": 15,
   "id": "2fc95bf8-5ee9-42ed-91be-dc3ba7bf7455",
   "metadata": {},
   "outputs": [
    {
     "name": "stdout",
     "output_type": "stream",
     "text": [
      "True\n",
      "False\n"
     ]
    }
   ],
   "source": [
    "# Booleans\n",
    "name = 'FSP'\n",
    "is_cool = False\n",
    "is_cool = True\n",
    "\n",
    "print(bool(1))\n",
    "print(bool(0))"
   ]
  },
  {
   "cell_type": "code",
   "execution_count": 24,
   "id": "fe501401-bc8f-422e-8c16-7c433042979d",
   "metadata": {},
   "outputs": [
    {
     "name": "stdout",
     "output_type": "stream",
     "text": [
      "single\n",
      "it's complicated\n"
     ]
    },
    {
     "name": "stdin",
     "output_type": "stream",
     "text": [
      "What year where you born? 2002\n"
     ]
    },
    {
     "name": "stdout",
     "output_type": "stream",
     "text": [
      "birth year type: <class 'str'>\n",
      "Your age is 19\n"
     ]
    }
   ],
   "source": [
    "# Type Conversion Ex. \n",
    "name = 'FSP'\n",
    "age = 22\n",
    "relationship_status = 'single'\n",
    "print(relationship_status)\n",
    "\n",
    "relationship_status = 'it\\'s complicated'\n",
    "print(relationship_status)\n",
    "\n",
    "birth_year = input('What year where you born?')\n",
    "yourAge = 2021 - int(birth_year)\n",
    "print(f'birth year type: {type(birth_year)}')\n",
    "print(f'Your age is {yourAge}') "
   ]
  },
  {
   "cell_type": "code",
   "execution_count": 35,
   "id": "0334b4ca-5424-471a-8fbf-381faa8a3b69",
   "metadata": {},
   "outputs": [
    {
     "name": "stdin",
     "output_type": "stream",
     "text": [
      "Enter your username:  user\n",
      "Enter your password:  user\n"
     ]
    },
    {
     "name": "stdout",
     "output_type": "stream",
     "text": [
      "Password **** is 4 characters long.\n"
     ]
    }
   ],
   "source": [
    "# Password Checker Ex. \n",
    "username = input(\"Enter your username: \")\n",
    "password = input(\"Enter your password: \")\n",
    "\n",
    "print(f'Password {'*' * len(password)} is {len(password)} characters long.')"
   ]
  },
  {
   "cell_type": "code",
   "execution_count": 37,
   "id": "fa6f1e8a-e083-4e1c-a39e-74b41a8cde26",
   "metadata": {},
   "outputs": [
    {
     "data": {
      "text/plain": [
       "'tablet'"
      ]
     },
     "execution_count": 37,
     "metadata": {},
     "output_type": "execute_result"
    }
   ],
   "source": [
    "# Lists\n",
    "li = [1, 2, 3, 4, 5]\n",
    "li2 = ['a', 'b', 'c']\n",
    "li3 = [1, 2, 'a', True]\n",
    "\n",
    "cart = ['phone', 'tablet', 'notebook']\n",
    "cart[0]\n",
    "cart[1]"
   ]
  },
  {
   "cell_type": "code",
   "execution_count": 48,
   "id": "3c1f52b8-310e-4edb-8494-e74255ee9362",
   "metadata": {},
   "outputs": [
    {
     "name": "stdout",
     "output_type": "stream",
     "text": [
      "['phone', 'tablet', 'notebook', 'pen']\n",
      "['phone', 'notebook']\n",
      "['car', 'tablet', 'notebook', 'pen']\n",
      "['car', 'tablet', 'notebook', 'pen']\n"
     ]
    }
   ],
   "source": [
    "# List slicing\n",
    "cart = ['phone', \n",
    "        'tablet', \n",
    "        'notebook',\n",
    "           'pen']\n",
    "print(cart)\n",
    "print(cart[0::2])\n",
    "# LISTS ARE MUTABLE\n",
    "\n",
    "cart[0] = 'car'\n",
    "new_cart = cart[0:3]\n",
    "new_cart[0] = 'thisChanged'\n",
    "\n",
    "#Copying a list:\n",
    "new_cart = cart[:] # IMPORTANT CONCEPT\n",
    "# copying vs modifying a list\n",
    "\n",
    "print(new_cart)\n",
    "print(cart)\n"
   ]
  },
  {
   "cell_type": "code",
   "execution_count": 53,
   "id": "1f63f58b-1160-4ec0-99ba-37ee0c059fe2",
   "metadata": {},
   "outputs": [
    {
     "name": "stdout",
     "output_type": "stream",
     "text": [
      "[[1, 2, 3], [2, 4, 6], [7, 8, 9]]\n",
      "[1, 2, 3]\n",
      "2\n"
     ]
    }
   ],
   "source": [
    "# Matrix\n",
    "matrix = [\n",
    "    [1, 2, 3],\n",
    "    [2, 4, 6],\n",
    "    [7, 8, 9]\n",
    "         ]\n",
    "\n",
    "print(matrix)\n",
    "print(matrix[0])\n",
    "print(matrix[0][1])"
   ]
  },
  {
   "cell_type": "code",
   "execution_count": 79,
   "id": "48c7e5c3-1d8e-4bee-ae84-f28cb6aecd2b",
   "metadata": {},
   "outputs": [
    {
     "name": "stdout",
     "output_type": "stream",
     "text": [
      "5\n",
      "[1, 2, 3, 4, 5, 100, 6]\n",
      "[1, 2, 3, 4, 5, 100, 6]\n",
      "[1, 2, 3, 4, 5, 100, 6, 100, 101]\n",
      "None\n"
     ]
    }
   ],
   "source": [
    "# List methods\n",
    "basket = [1, 2, 3, 4, 5]\n",
    "print(len(basket))\n",
    "\n",
    "# adding methods\n",
    "basket.append(6)\n",
    "basket.insert(5, 100)\n",
    "new_list = basket\n",
    "print(basket)\n",
    "print(new_list)\n",
    "\n",
    "new_list = basket.extend([100, 101])\n",
    "print(basket)\n",
    "print(new_list)"
   ]
  },
  {
   "cell_type": "code",
   "execution_count": 80,
   "id": "232ad891-1522-4098-a0a1-60be3544a4c7",
   "metadata": {},
   "outputs": [
    {
     "name": "stdout",
     "output_type": "stream",
     "text": [
      "[1, 2, 3, 4, 5, 100, 6, 100]\n",
      "[1, 2, 3, 4, 5, 100, 6]\n",
      "[2, 3, 4, 5, 100, 6]\n",
      "[2, 3, 5, 100, 6]\n",
      "None\n",
      "6\n",
      "[]\n"
     ]
    }
   ],
   "source": [
    "# removing methods\n",
    "basket.pop()\n",
    "print(basket)\n",
    "\n",
    "basket.pop()\n",
    "print(basket)\n",
    "\n",
    "basket.pop(0)\n",
    "print(basket)\n",
    "\n",
    "basket.remove(4)\n",
    "print(basket)\n",
    "\n",
    "new_list = basket.remove(3) # remove is working IN PLACE\n",
    "print(new_list)\n",
    "\n",
    "new_list = basket.pop(3)\n",
    "print(new_list)\n",
    "\n",
    "new_list = basket.clear()\n",
    "print(basket)"
   ]
  },
  {
   "cell_type": "code",
   "execution_count": 95,
   "id": "3fe43f8c-ba27-42d3-ab56-12f786abf22f",
   "metadata": {},
   "outputs": [
    {
     "name": "stdout",
     "output_type": "stream",
     "text": [
      "2\n",
      "2\n",
      "True\n",
      "False\n",
      "True\n",
      "1\n"
     ]
    }
   ],
   "source": [
    "basket = ['a', 'b', 'c', 'd', 'e']\n",
    "print(basket.index('c'))\n",
    "print(basket.index('c', 0, 3))\n",
    "\n",
    "# python keyword\n",
    "print('c' in basket)\n",
    "print('x' in basket)\n",
    "print('a' in 'ana are mere')\n",
    "\n",
    "print(basket.count('a'))"
   ]
  },
  {
   "cell_type": "code",
   "execution_count": 102,
   "id": "5ab1fc88-c0d8-43b0-92a0-737940352c2e",
   "metadata": {},
   "outputs": [
    {
     "name": "stdout",
     "output_type": "stream",
     "text": [
      "['a', 'b', 'c', 'd', 'd', 'e']\n",
      "['a', 'b', 'c', 'd', 'd', 'e', 'z']\n",
      "['a', 'b', 'c', 'd', 'd', 'e', 'z']\n",
      "['a', 'z', 'b', 'c', 'd', 'e', 'd']\n"
     ]
    }
   ],
   "source": [
    "basket = ['a', 'b', 'c', 'd', 'e', 'd']\n",
    "basket.sort()\n",
    "print(basket)\n",
    "\n",
    "basket = ['a', 'z', 'b', 'c', 'd', 'e', 'd']\n",
    "basket.sort()\n",
    "print(basket)\n",
    "\n",
    "basket = ['a', 'z', 'b', 'c', 'd', 'e', 'd']\n",
    "print(sorted(basket)) # creates a copy of the basket\n",
    "print(basket) # sorted does not modify the basket"
   ]
  },
  {
   "cell_type": "code",
   "execution_count": 106,
   "id": "f4a448b4-816a-4e85-bfc2-7cfb02749579",
   "metadata": {},
   "outputs": [
    {
     "name": "stdout",
     "output_type": "stream",
     "text": [
      "['a', 'b', 'c', 'd', 'd', 'e', 'x']\n",
      "['a', 'x', 'b', 'c', 'd', 'e', 'd']\n",
      "['a', 'x', 'b', 'c', 'd', 'e', 'd']\n",
      "['d', 'e', 'd', 'c', 'b', 'x', 'a']\n",
      "['x', 'e', 'd', 'd', 'c', 'b', 'a']\n"
     ]
    }
   ],
   "source": [
    "basket = ['a', 'x', 'b', 'c', 'd', 'e', 'd']\n",
    "new_basket = basket[:]\n",
    "new_basket.sort()\n",
    "print(new_basket)\n",
    "print(basket)\n",
    "\n",
    "new_basket_copy = basket.copy()\n",
    "print(new_basket_copy) \n",
    "\n",
    "basket.reverse()\n",
    "print(basket)\n",
    "\n",
    "basket.sort()\n",
    "basket.reverse()\n",
    "print(basket)"
   ]
  },
  {
   "cell_type": "code",
   "execution_count": 121,
   "id": "145dd75d-0e6e-4785-8ce2-7b6302836c62",
   "metadata": {},
   "outputs": [
    {
     "name": "stdout",
     "output_type": "stream",
     "text": [
      "['x', 'e', 'd', 'd', 'c', 'b', 'a']\n",
      "7\n",
      "['a', 'b', 'c', 'd', 'd', 'e', 'x']\n",
      "\n",
      "range(1, 100)\n",
      "\n",
      "[1, 2, 3, 4, 5, 6, 7, 8, 9, 10, 11, 12, 13, 14, 15, 16, 17, 18, 19, 20, 21, 22, 23, 24, 25, 26, 27, 28, 29, 30, 31, 32, 33, 34, 35, 36, 37, 38, 39, 40, 41, 42, 43, 44, 45, 46, 47, 48, 49, 50, 51, 52, 53, 54, 55, 56, 57, 58, 59, 60, 61, 62, 63, 64, 65, 66, 67, 68, 69, 70, 71, 72, 73, 74, 75, 76, 77, 78, 79, 80, 81, 82, 83, 84, 85, 86, 87, 88, 89, 90, 91, 92, 93, 94, 95, 96, 97, 98, 99]\n",
      "\n",
      "[0, 1, 2, 3, 4, 5, 6, 7, 8, 9, 10, 11, 12, 13, 14, 15, 16, 17, 18, 19, 20, 21, 22, 23, 24, 25, 26, 27, 28, 29, 30, 31, 32, 33, 34, 35, 36, 37, 38, 39, 40, 41, 42, 43, 44, 45, 46, 47, 48, 49, 50, 51, 52, 53, 54, 55, 56, 57, 58, 59, 60, 61, 62, 63, 64, 65, 66, 67, 68, 69, 70, 71, 72, 73, 74, 75, 76, 77, 78, 79, 80, 81, 82, 83, 84, 85, 86, 87, 88, 89, 90, 91, 92, 93, 94, 95, 96, 97, 98, 99]\n",
      " \n",
      "hi i am fsp\n",
      "hi fsp\n"
     ]
    }
   ],
   "source": [
    "# Common list patterns\n",
    "basket = ['a', 'x', 'b', 'c', 'd', 'e', 'd']\n",
    "basket.sort()\n",
    "basket.reverse()\n",
    "print(basket)\n",
    "print(len(basket))\n",
    "print(basket[::-1])\n",
    "\n",
    "# range\n",
    "print()\n",
    "print(range(1, 100))\n",
    "print()\n",
    "print(list(range(1, 100)))\n",
    "print()\n",
    "print(list(range(100)))\n",
    "\n",
    "# join\n",
    "sentence = ' '\n",
    "new_sentence = sentence.join(['hi', 'i', 'am', 'fsp'])\n",
    "print(sentence)\n",
    "print(new_sentence)\n",
    "\n",
    "new_sentence = ' '.join(['hi', 'fsp'])\n",
    "print(new_sentence)\n",
    "\n"
   ]
  },
  {
   "cell_type": "code",
   "execution_count": 125,
   "id": "9a2da1f5-5c2d-49cf-b2bc-416baf5f9b8e",
   "metadata": {},
   "outputs": [
    {
     "name": "stdout",
     "output_type": "stream",
     "text": [
      "[1, 2, 3]\n",
      "1\n",
      "2\n",
      "3\n",
      "\n",
      "1\n",
      "2\n",
      "3\n",
      "[4, 5, 6, 7, 8, 9]\n",
      "\n",
      "1\n",
      "2\n",
      "3\n",
      "[4, 5, 6, 7, 8]\n",
      "9\n"
     ]
    }
   ],
   "source": [
    "# List unpacking\n",
    "basket = [1, 2, 3]\n",
    "a, b, c = [1, 2, 3]\n",
    "print(basket)\n",
    "print(a)\n",
    "print(b)\n",
    "print(c)\n",
    "print()\n",
    "\n",
    "a, b, c, *other = [1, 2, 3, 4, 5, 6, 7, 8, 9]\n",
    "print(a)\n",
    "print(b)\n",
    "print(c)\n",
    "print(other)\n",
    "print()\n",
    "\n",
    "a, b, c, *other, d = [1, 2, 3, 4, 5, 6, 7, 8, 9]\n",
    "print(a)\n",
    "print(b)\n",
    "print(c)\n",
    "print(other)\n",
    "print(d)\n"
   ]
  },
  {
   "cell_type": "code",
   "execution_count": 126,
   "id": "e4b8f58e-8e77-49a3-82bb-52239326a32c",
   "metadata": {},
   "outputs": [
    {
     "name": "stdout",
     "output_type": "stream",
     "text": [
      "None\n"
     ]
    }
   ],
   "source": [
    "# None \n",
    "# = absence of value\n",
    "\n",
    "user_weapons = None\n",
    "print(user_weapons)"
   ]
  },
  {
   "cell_type": "code",
   "execution_count": 132,
   "id": "1cc7ee86-78a2-4fce-8d39-47d5ee6c4bf7",
   "metadata": {},
   "outputs": [
    {
     "name": "stdout",
     "output_type": "stream",
     "text": [
      "2\n",
      "{'a': 1, 'b': 2, 'x': 3}\n",
      "[1, 2, 3]\n",
      "2\n",
      "[{'a': [1, 2, 3], 'b': 'hello', 'x': True}, {'a': [4, 5, 6], 'b': 'hello', 'x': True}]\n",
      "\n",
      "{'a': [1, 2, 3], 'b': 'hello', 'x': True}\n",
      "\n",
      "{'a': [4, 5, 6], 'b': 'hello', 'x': True}\n",
      "\n",
      "2\n"
     ]
    }
   ],
   "source": [
    "# Dictionaries\n",
    "# dict - data type but also data structure\n",
    "# way to organize data\n",
    "\n",
    "dictionary = {\n",
    "    'a' : 1, \n",
    "    'b' : 2,\n",
    "    'x' : 3\n",
    "}\n",
    "\n",
    "print(dictionary['b'])\n",
    "print(dictionary)\n",
    "\n",
    "dictionary = {\n",
    "    'a' : [1, 2, 3,],\n",
    "    'b' : 'hello', \n",
    "    'x' : True\n",
    "} \n",
    "\n",
    "print(dictionary['a'])\n",
    "print(dictionary['a'][1])\n",
    "\n",
    "my_list = [\n",
    "    {\n",
    "        'a' : [1, 2, 3,],\n",
    "        'b' : 'hello', \n",
    "        'x' : True\n",
    "    },\n",
    "    {\n",
    "        'a' : [4, 5, 6,],\n",
    "        'b' : 'hello', \n",
    "        'x' : True\n",
    "    }\n",
    "]\n",
    "\n",
    "print(my_list)\n",
    "print()\n",
    "print(my_list[0])\n",
    "print()\n",
    "print(my_list[1])\n",
    "print()\n",
    "print(my_list[0]['a'][1])"
   ]
  },
  {
   "cell_type": "code",
   "execution_count": null,
   "id": "dcb97f9a-5ce4-4409-a9b3-d0b57037c1e1",
   "metadata": {},
   "outputs": [],
   "source": [
    "# list vs dictionary\n",
    "# - lists are sorted\n",
    "# - dictionaries hold more information than lists"
   ]
  },
  {
   "cell_type": "code",
   "execution_count": 143,
   "id": "9a298c35-3fb3-4fcd-a470-6a6fa2c7f416",
   "metadata": {},
   "outputs": [
    {
     "name": "stdout",
     "output_type": "stream",
     "text": [
      "[1, 2, 3]\n",
      "hello\n",
      "True\n",
      "\n",
      "hello\n"
     ]
    }
   ],
   "source": [
    "# Dictionary keys\n",
    "# A KEY NEEDS TO BE IMMUTABLE\n",
    "dictionary = {\n",
    "    123 : [1,2,3], \n",
    "    True : 'hello',\n",
    "    'description' : True\n",
    "}\n",
    "\n",
    "print(dictionary[123])\n",
    "print(dictionary[True])\n",
    "print(dictionary['description'])\n",
    "print()\n",
    "\n",
    "dictionary = {\n",
    "    '123': [1,2,3],\n",
    "    '123': 'hello' # this will overwrite\n",
    "    # a key has to be UNIQUE\n",
    "}\n",
    "print(dictionary['123'])"
   ]
  },
  {
   "cell_type": "code",
   "execution_count": 149,
   "id": "6cc0c965-0434-4769-8245-ab9f08b6b5d6",
   "metadata": {},
   "outputs": [
    {
     "name": "stdout",
     "output_type": "stream",
     "text": [
      "20\n",
      "20\n",
      "{'name': 'FSP'}\n"
     ]
    }
   ],
   "source": [
    "# Dictionary Methods\n",
    "user = {\n",
    "    'basket': [1,2,3],\n",
    "    'greet': 'hello',\n",
    "    'age' : 20\n",
    "    # a key has to be UNIQUE\n",
    "}\n",
    "# GET method to avoid errors\n",
    "print(user.get('age'))\n",
    "print(user.get('age', 50)) # add default value\n",
    "\n",
    "user2 = dict(name = 'FSP')\n",
    "print(user2)"
   ]
  },
  {
   "cell_type": "code",
   "execution_count": 165,
   "id": "524d2280-f344-41ea-980b-cae468bc7d2b",
   "metadata": {},
   "outputs": [
    {
     "name": "stdout",
     "output_type": "stream",
     "text": [
      "True\n",
      "False\n",
      "True\n",
      "True\n",
      "\n",
      "dict_items([('basket', [1, 2, 3]), ('greet', 'hello'), ('age', 20)])\n",
      "{'basket': [1, 2, 3], 'greet': 'hello', 'age': 20}\n",
      "{'basket': [1, 2, 3], 'greet': 'hello', 'age': 20}\n",
      "20\n",
      "{'basket': [1, 2, 3], 'greet': 'hello'}\n",
      "('greet', 'hello')\n",
      "{'basket': [1, 2, 3]}\n",
      "None\n",
      "None\n",
      "{'basket': [1, 2, 3], 'age': 50, 'ages': 50}\n"
     ]
    }
   ],
   "source": [
    "user = {\n",
    "    'basket': [1,2,3],\n",
    "    'greet': 'hello',\n",
    "    'age' : 20\n",
    "}\n",
    "\n",
    "print('basket' in user)\n",
    "print('color' in user)\n",
    "print('age' in user.keys())\n",
    "print('hello' in user.values())\n",
    "print()\n",
    "print(user.items())\n",
    "# print(user.clear())\n",
    "\n",
    "user2 = user.copy()\n",
    "print(user)\n",
    "print(user2)\n",
    "\n",
    "print(user.pop('age'))\n",
    "print(user)\n",
    "\n",
    "print(user.popitem())\n",
    "print(user)\n",
    "\n",
    "print(user.update({'age': 50}))\n",
    "print(user.update({'ages': 50}))\n",
    "\n",
    "print(user)\n",
    "\n"
   ]
  },
  {
   "cell_type": "code",
   "execution_count": 174,
   "id": "24797624-28de-4953-93c2-e393f33e4651",
   "metadata": {},
   "outputs": [
    {
     "name": "stdout",
     "output_type": "stream",
     "text": [
      "2\n",
      "True\n",
      "(2, 3, 4)\n",
      "[4, 5]\n",
      "1\n",
      "4\n",
      "5\n"
     ]
    }
   ],
   "source": [
    "# Tuples\n",
    "# = immutable lists\n",
    "# less flexible -> \n",
    "# slightly more performant than lists\n",
    "\n",
    "myTuple = (1, 2, 3, 4, 5)\n",
    "\n",
    "print(myTuple[1])\n",
    "print(5 in myTuple)\n",
    "\n",
    "new_tuple = myTuple[1:4]\n",
    "\n",
    "print(new_tuple)\n",
    "\n",
    "# x = my_tuple[0]\n",
    "# y = my_tuple[1]\n",
    "\n",
    "x, y, z, *other = (1, 2, 3, 4, 5)\n",
    "print(other)\n",
    "\n",
    "# two methods --> count() & index()\n",
    "\n",
    "print(myTuple.count(5))\n",
    "print(myTuple.index(5))\n",
    "\n",
    "print(len(myTuple))\n"
   ]
  },
  {
   "cell_type": "code",
   "execution_count": 186,
   "id": "25589817-ccf8-4e78-9740-e19622a8571e",
   "metadata": {},
   "outputs": [
    {
     "name": "stdout",
     "output_type": "stream",
     "text": [
      "{1, 2, 3, 4, 5}\n",
      "{1, 2, 3, 4, 5}\n",
      "{1, 2, 3, 4, 5, 100}\n",
      "\n",
      "{1, 2, 3, 4, 5}\n",
      "True\n",
      "5\n",
      "[1, 2, 3, 4, 5]\n",
      "\n",
      "{1, 2, 3, 4, 5}\n",
      "set()\n"
     ]
    }
   ],
   "source": [
    "# Sets\n",
    "# = unordered collections of unique objects\n",
    "\n",
    "mySet = {1, 2, 3, 4, 5}\n",
    "print(mySet)\n",
    "\n",
    "mySet = {1, 2, 3, 4, 5, 5}\n",
    "print(mySet) # THERE S NO DUPLICATES IN A SET\n",
    "\n",
    "mySet.add(100)\n",
    "mySet.add(2)\n",
    "print(mySet)\n",
    "print()\n",
    "\n",
    "my_list = [1, 2, 3, 4, 5, 5]\n",
    "# return a collection of unique values\n",
    "print(set(my_list))\n",
    "\n",
    "my_set = {1, 2, 3, 4, 5, 5}\n",
    "# print(my_set[0]) --> error, does not support indexing\n",
    "print(1 in my_set)\n",
    "print(len(my_set)) # counts only the unique objects\n",
    "print(list(my_set))\n",
    "print()\n",
    "\n",
    "new_set = my_set.copy()\n",
    "my_set.clear()\n",
    "print(new_set)\n",
    "print(my_set)"
   ]
  },
  {
   "cell_type": "code",
   "execution_count": 206,
   "id": "79f7ce59-836e-4220-8cd0-521bfea65857",
   "metadata": {},
   "outputs": [
    {
     "name": "stdout",
     "output_type": "stream",
     "text": [
      "True\n",
      "True\n"
     ]
    }
   ],
   "source": [
    "my_set = {1, 2, 3, 4, 5}\n",
    "your_set = {4, 5, 6, 7, 8, 9, 10}\n",
    "\n",
    "# print(my_set.difference(your_set))\n",
    "# print()\n",
    "\n",
    "# print(my_set.discard(5))\n",
    "# print(my_set)\n",
    "# print()\n",
    "\n",
    "# print(my_set.difference_update(your_set))\n",
    "# print(my_set)\n",
    "# print()\n",
    "\n",
    "# print(my_set.intersection(your_set))\n",
    "# print(my_set & your_set) # does the same as intersection\n",
    "# print()\n",
    "\n",
    "# print(my_set.isdisjoint(your_set)) # nothing in common\n",
    "\n",
    "# print(my_set.union(your_set)) # also removes duplicates\n",
    "\n",
    "# print(my_set | your_set) # does the same as union\n",
    "\n",
    "my_set = { 4, 5}\n",
    "your_set = {4, 5, 6, 7, 8, 9, 10}\n",
    "\n",
    "print(my_set.issubset(your_set))\n",
    "print(your_set.issuperset(my_set))\n"
   ]
  },
  {
   "cell_type": "code",
   "execution_count": 1,
   "id": "50c905c0-7677-4cc5-b3be-cbf3551ef70f",
   "metadata": {},
   "outputs": [
    {
     "name": "stdout",
     "output_type": "stream",
     "text": [
      "can't drive\n"
     ]
    }
   ],
   "source": [
    "# Conditional logic\n",
    "isOld = True\n",
    "isLicensed = False\n",
    "\n",
    "if isOld and isLicensed:\n",
    "    print('you are old enough to drive')\n",
    "else: \n",
    "    print('can\\'t drive')\n"
   ]
  },
  {
   "cell_type": "code",
   "execution_count": 6,
   "id": "858da537-58a4-4106-a2bd-37925ac4e754",
   "metadata": {},
   "outputs": [
    {
     "name": "stdout",
     "output_type": "stream",
     "text": [
      "True\n",
      "True\n",
      "False\n",
      "you are old enough to drive\n"
     ]
    }
   ],
   "source": [
    "# Truthy and Falsy\n",
    "\n",
    "isOld = 'hello'\n",
    "isLicensed = 5\n",
    "\n",
    "print(bool('hello')) # truthy value\n",
    "print(bool(5)) # truthy value\n",
    "\n",
    "print(bool('')) # falsy value\n",
    "\n",
    "if isOld and isLicensed:\n",
    "    print('you are old enough to drive')\n",
    "else: \n",
    "    print('can\\'t drive')"
   ]
  },
  {
   "cell_type": "code",
   "execution_count": 2,
   "id": "b1be0030-f40d-4c89-911c-b7d33e4f3c6d",
   "metadata": {},
   "outputs": [
    {
     "name": "stdout",
     "output_type": "stream",
     "text": [
      "not my friend\n"
     ]
    }
   ],
   "source": [
    "# Ternary Operator\n",
    "# condition_if_true if condition else\n",
    "# condition_if_else\n",
    "\n",
    "is_friend = False\n",
    "can_message = \"Hi friend!\" if is_friend else \"not my friend\"\n",
    "\n",
    "print(can_message)"
   ]
  },
  {
   "cell_type": "code",
   "execution_count": 10,
   "id": "da06e3bd-f968-480b-b436-c985728e4e2c",
   "metadata": {},
   "outputs": [
    {
     "name": "stdout",
     "output_type": "stream",
     "text": [
      "not friends\n",
      "Best friends!\n"
     ]
    }
   ],
   "source": [
    "# Short circuiting\n",
    "is_Friend = True\n",
    "is_User = False\n",
    "\n",
    "if (is_Friend and is_User):\n",
    "    print('Best friends!')\n",
    "else: \n",
    "    print('not friends')\n",
    "\n",
    "if (is_Friend or is_User):\n",
    "    print('Best friends!')\n",
    "else:\n",
    "    print('not friends at all')"
   ]
  },
  {
   "cell_type": "code",
   "execution_count": 26,
   "id": "8ffba583-d9b8-4569-9994-183dbcbaaaf1",
   "metadata": {},
   "outputs": [
    {
     "name": "stdout",
     "output_type": "stream",
     "text": [
      "False\n",
      "False\n",
      "True\n",
      "True\n",
      "True\n",
      "False\n",
      "Not(True): = False\n"
     ]
    }
   ],
   "source": [
    "# Logical operators\n",
    "# < > == \n",
    "\n",
    "print(4 > 5)\n",
    "print(4 == 5)\n",
    "print(4 == 4)\n",
    "\n",
    "print('a' > 'A')\n",
    "\n",
    "print(1 < 2 < 3 < 4)\n",
    "print(1 < 2 > 3 < 4)\n",
    "\n",
    "print(\"Not(True): =\", not(True))"
   ]
  },
  {
   "cell_type": "code",
   "execution_count": 33,
   "id": "0e466056-e81e-4fe4-a6ce-22efdea19ff1",
   "metadata": {},
   "outputs": [
    {
     "name": "stdout",
     "output_type": "stream",
     "text": [
      "You re getting there\n"
     ]
    }
   ],
   "source": [
    "is_magician = True\n",
    "is_expert = False\n",
    "\n",
    "if is_magician and is_expert:\n",
    "    print(\"You are a master magician\")\n",
    "elif is_magician and not is_expert:\n",
    "    print(\"You re getting there\")\n",
    "elif not is_magician:\n",
    "    print(\"You need magic powers\")"
   ]
  },
  {
   "cell_type": "code",
   "execution_count": 41,
   "id": "343163b6-2965-463b-8525-c7bf538722e0",
   "metadata": {
    "collapsed": true,
    "jupyter": {
     "outputs_hidden": true
    }
   },
   "outputs": [
    {
     "name": "stdout",
     "output_type": "stream",
     "text": [
      "True\n",
      "False\n",
      "False\n",
      "True\n",
      "True\n",
      "------------\n",
      "True\n",
      "True\n",
      "False\n"
     ]
    },
    {
     "name": "stderr",
     "output_type": "stream",
     "text": [
      "<>:20: SyntaxWarning: \"is\" with 'str' literal. Did you mean \"==\"?\n",
      "<>:20: SyntaxWarning: \"is\" with 'str' literal. Did you mean \"==\"?\n",
      "C:\\Users\\Fabius S Pop\\AppData\\Local\\Temp\\ipykernel_13428\\2643597506.py:20: SyntaxWarning: \"is\" with 'str' literal. Did you mean \"==\"?\n",
      "  print('1' is '1')\n"
     ]
    },
    {
     "data": {
      "text/plain": [
       "'\\nAn is expression evaluates to True if \\n    two variables point to the same (identical) object. \\nAn == expression evaluates to True if \\n    the objects referred to by the variables are equal\\n'"
      ]
     },
     "execution_count": 41,
     "metadata": {},
     "output_type": "execute_result"
    }
   ],
   "source": [
    "# is vs == \n",
    "print(True == 1)\n",
    "print('' == 1)\n",
    "print([] == 1)\n",
    "print(10 == 10.0)\n",
    "print([] == [])\n",
    "print(\"------------\")\n",
    "\n",
    "\"\"\"\n",
    "print(True is 1)\n",
    "print('' is 1)\n",
    "print([] is 1)\n",
    "print(10 is 10.0)\n",
    "print([] is [])\n",
    "print(\"-------------\")\n",
    "\n",
    "\"\"\"\n",
    "\n",
    "print(True is True)\n",
    "print('1' is '1')\n",
    "print([] is [])\n",
    "\n",
    "\"\"\"\n",
    "An is expression evaluates to True if \n",
    "    two variables point to the same (identical) object. \n",
    "An == expression evaluates to True if \n",
    "    the objects referred to by the variables are equal\n",
    "\"\"\""
   ]
  },
  {
   "cell_type": "code",
   "execution_count": 48,
   "id": "1200f234-20ba-4cd4-847a-c40d7e63a7e1",
   "metadata": {
    "collapsed": true,
    "jupyter": {
     "outputs_hidden": true
    }
   },
   "outputs": [
    {
     "name": "stdout",
     "output_type": "stream",
     "text": [
      "F\n",
      "S\n",
      "P\n",
      "\n",
      "1\n",
      "2\n",
      "3\n",
      "4\n",
      "5\n",
      "\n",
      "1\n",
      "2\n",
      "3\n",
      "4\n",
      "5\n",
      "\n",
      "1\n",
      "1\n",
      "1\n",
      "2\n",
      "2\n",
      "2\n",
      "3\n",
      "3\n",
      "3\n",
      "3\n",
      "\n",
      "1 a\n",
      "1 b\n",
      "1 c\n",
      "2 a\n",
      "2 b\n",
      "2 c\n",
      "3 a\n",
      "3 b\n",
      "3 c\n",
      "4 a\n",
      "4 b\n",
      "4 c\n",
      "5 a\n",
      "5 b\n",
      "5 c\n"
     ]
    }
   ],
   "source": [
    "# For loops\n",
    "for item in 'FSP':\n",
    "    print(item)\n",
    "print()\n",
    "\n",
    "for item in [1, 2, 3, 4, 5]:\n",
    "    print(item)\n",
    "print()\n",
    "\n",
    "for item in (1, 2, 3, 4, 5):\n",
    "    print(item)\n",
    "print()\n",
    "\n",
    "for item in (1, 2, 3):\n",
    "    print(item)\n",
    "    print(item)\n",
    "    print(item)\n",
    "print(item)\n",
    "print()\n",
    "\n",
    "for item in (1, 2, 3, 4, 5):\n",
    "    for x in ['a', 'b', 'c']: # u can have nested loops over and over\n",
    "        print(item, x)"
   ]
  },
  {
   "cell_type": "code",
   "execution_count": 53,
   "id": "e0952e24-8dc4-4bd1-9112-6fcc3b748f20",
   "metadata": {
    "collapsed": true,
    "jupyter": {
     "outputs_hidden": true
    }
   },
   "outputs": [
    {
     "name": "stdout",
     "output_type": "stream",
     "text": [
      "name\n",
      "surname\n",
      "age\n",
      "----------------\n",
      "('name', 'John')\n",
      "('surname', 'Doe')\n",
      "('age', 22)\n",
      "----------------\n",
      "John\n",
      "Doe\n",
      "22\n",
      "----------------\n",
      "name\n",
      "surname\n",
      "age\n",
      "----------------\n",
      "name\n",
      "surname\n",
      "age\n",
      "----------------\n",
      "name John\n",
      "surname Doe\n",
      "age 22\n",
      "----------------\n"
     ]
    }
   ],
   "source": [
    "# Iterables -> can be: a list, dictionary, tuple, set, string\n",
    "# they can be ITERATED\n",
    "user = {\n",
    "    'name': 'John',\n",
    "    'surname': 'Doe',\n",
    "    'age': 22\n",
    "}\n",
    "\n",
    "for item in user:\n",
    "    print(item)\n",
    "print(\"----------------\")\n",
    "\n",
    "for item in user.items():\n",
    "    print(item)\n",
    "print(\"----------------\")\n",
    "\n",
    "for item in user.values():\n",
    "    print(item)\n",
    "print(\"----------------\")\n",
    "\n",
    "for item in user.keys():\n",
    "    print(item)\n",
    "print(\"----------------\")\n",
    "\n",
    "for item in user:\n",
    "    print(item)\n",
    "print(\"----------------\")\n",
    "\n",
    "for key, value in user.items():\n",
    "    print(key, value)\n",
    "print(\"----------------\")\n",
    "    "
   ]
  },
  {
   "cell_type": "code",
   "execution_count": 57,
   "id": "ad6e9553-7bc3-45e0-a1dd-975be823e08e",
   "metadata": {},
   "outputs": [
    {
     "name": "stdout",
     "output_type": "stream",
     "text": [
      "55\n"
     ]
    }
   ],
   "source": [
    "my_list = [1, 2, 3, 4, 5, 6, 7, 8, 9, 10]\n",
    "counter = 0\n",
    "\n",
    "for item in my_list: \n",
    "    counter += item\n",
    "\n",
    "print(counter)"
   ]
  },
  {
   "cell_type": "code",
   "execution_count": 73,
   "id": "fd98bcc0-e7f0-4459-adf0-60bf320d8d08",
   "metadata": {},
   "outputs": [
    {
     "name": "stdout",
     "output_type": "stream",
     "text": [
      "range(0, 5)\n",
      "range(0, 5)\n",
      "------\n",
      "0\n",
      "1\n",
      "2\n",
      "3\n",
      "4\n",
      "-----\n",
      "0\n",
      "1\n",
      "2\n",
      "3\n",
      "4\n",
      "-----\n",
      "0\n",
      "2\n",
      "4\n",
      "-----\n",
      "10\n",
      "9\n",
      "8\n",
      "7\n",
      "6\n",
      "5\n",
      "4\n",
      "3\n",
      "2\n",
      "1\n",
      "---\n",
      "[0, 1, 2, 3, 4, 5, 6, 7, 8, 9]\n",
      "[0, 1, 2, 3, 4, 5, 6, 7, 8, 9]\n",
      "-----\n"
     ]
    }
   ],
   "source": [
    "# range()\n",
    "print(range(5)) # this prints a range type obj\n",
    "print(range(0, 5)) # this also prints a range type obj\n",
    "print(\"------\")\n",
    "\n",
    "for item in range(0, 5): # this will loop ten times\n",
    "    print(item) \n",
    "print(\"-----\")\n",
    "\n",
    "for _ in range(0, 5):\n",
    "    print(_)\n",
    "print(\"-----\")\n",
    "\n",
    "for _ in range(0, 5, 2):\n",
    "    print(_)\n",
    "print(\"-----\")\n",
    "\n",
    "for _ in range(0, 10, -1): # this DOES NOT WORK\n",
    "    print(_)\n",
    "\n",
    "for _ in range(10, 0, -1): # this works\n",
    "    print(_)\n",
    "print(\"---\")\n",
    "\n",
    "for _ in range(2):\n",
    "    print(list(range(10)))\n",
    "print(\"-----\")"
   ]
  },
  {
   "cell_type": "code",
   "execution_count": 93,
   "id": "f3c51f76-8ebb-451f-944b-309653f8639c",
   "metadata": {},
   "outputs": [
    {
     "name": "stdout",
     "output_type": "stream",
     "text": [
      "0 h\n",
      "1 e\n",
      "2 l\n",
      "3 l\n",
      "4 o\n",
      "-----\n",
      "0 1\n",
      "1 2\n",
      "2 3\n",
      "----\n",
      "Index of 50 is: 50\n"
     ]
    }
   ],
   "source": [
    "# enumerate()\n",
    "\n",
    "for i, char in enumerate('hello'):\n",
    "    print(i, char)\n",
    "\n",
    "print(\"-----\")\n",
    "for i, char in enumerate([1, 2, 3]):\n",
    "    print(i, char)\n",
    "print(\"----\")\n",
    "\n",
    "# retrieving the index of a specific value in a list\n",
    "\n",
    "for i, char in enumerate(list(range(100))):\n",
    "    if char == 50:\n",
    "        print(f'Index of 50 is: {i}')"
   ]
  },
  {
   "cell_type": "code",
   "execution_count": 5,
   "id": "56327676-0e4c-401a-bf13-8ede2e5175a0",
   "metadata": {},
   "outputs": [
    {
     "name": "stdout",
     "output_type": "stream",
     "text": [
      "0\n",
      "1\n",
      "2\n",
      "3\n",
      "4\n",
      "done\n",
      "-----\n",
      "0\n",
      "1\n",
      "2\n",
      "3\n",
      "4\n",
      "done\n"
     ]
    }
   ],
   "source": [
    "# while loops\n",
    "i = 0\n",
    "while i < 5:\n",
    "    print(i)\n",
    "    i += 1\n",
    "print('done')\n",
    "print('-----')\n",
    "\n",
    "# ELSE \n",
    "\n",
    "i = 0\n",
    "while i < 5:\n",
    "    print(i)\n",
    "    i += 1\n",
    "else: \n",
    "    print('done')"
   ]
  },
  {
   "cell_type": "code",
   "execution_count": 10,
   "id": "3d49f4fa-8c5a-4ddd-8e1b-c4a847ed1f17",
   "metadata": {},
   "outputs": [
    {
     "name": "stdout",
     "output_type": "stream",
     "text": [
      "1\n",
      "2\n",
      "3\n",
      "-----\n",
      "1\n",
      "2\n",
      "3\n",
      "----\n"
     ]
    },
    {
     "name": "stdin",
     "output_type": "stream",
     "text": [
      "Say sthhh:  hi\n",
      "Sayyyyyy sthhh:  bye\n"
     ]
    }
   ],
   "source": [
    "# use for simple loops, for iterable objects\n",
    "my_list = [1, 2, 3]\n",
    "for item in my_list:\n",
    "    print(item)\n",
    "print('-----')\n",
    "\n",
    "i = 0\n",
    "while i < len(my_list):\n",
    "    print(my_list[i])\n",
    "    i += 1\n",
    "print('----')\n",
    "\n",
    "while True:\n",
    "    input('Say sthhh: ')\n",
    "    break\n",
    "\n",
    "while True:\n",
    "    response = input('Sayyyyyy sthhh: ')\n",
    "    if (response == 'bye'):\n",
    "        break"
   ]
  },
  {
   "cell_type": "code",
   "execution_count": 13,
   "id": "5b73b9ee-e457-49f5-ad56-ad078cbf3680",
   "metadata": {
    "collapsed": true,
    "jupyter": {
     "outputs_hidden": true
    }
   },
   "outputs": [
    {
     "name": "stdout",
     "output_type": "stream",
     "text": [
      "1\n",
      "2\n",
      "3\n",
      "-----\n",
      "1\n",
      "2\n",
      "3\n",
      "----\n",
      "-----\n",
      "1\n",
      "2\n",
      "3\n",
      "----\n"
     ]
    }
   ],
   "source": [
    "# break, continue, pass\n",
    "\n",
    "my_list = [1, 2, 3]\n",
    "for item in my_list:\n",
    "    print(item)\n",
    "    continue\n",
    "print('-----')\n",
    "\n",
    "i = 0\n",
    "while i < len(my_list):\n",
    "    print(my_list[i])\n",
    "    i += 1\n",
    "    pass\n",
    "print('----')\n",
    "\n",
    "# why is pass useful? --> good way to have a placeholder while coding\n",
    "\n",
    "my_list = [1, 2, 3]\n",
    "for item in my_list:\n",
    "    pass\n",
    "print('-----')\n",
    "\n",
    "i = 0\n",
    "while i < len(my_list):\n",
    "    print(my_list[i])\n",
    "    i += 1\n",
    "print('----')"
   ]
  },
  {
   "cell_type": "code",
   "execution_count": 22,
   "id": "efbaf6ec-3b21-41e3-a124-e538bae8db07",
   "metadata": {},
   "outputs": [
    {
     "name": "stdout",
     "output_type": "stream",
     "text": [
      "   *   \n",
      "  ***  \n",
      " ***** \n",
      "*******\n",
      "   *   \n",
      "   *   \n"
     ]
    }
   ],
   "source": [
    "\n",
    "picture = [\n",
    "    [0, 0, 0, 1, 0, 0, 0],\n",
    "    [0, 0, 1, 1, 1, 0, 0],\n",
    "    [0, 1, 1, 1, 1, 1, 0],\n",
    "    [1, 1, 1, 1, 1, 1, 1],\n",
    "    [0, 0, 0, 1, 0, 0, 0],\n",
    "    [0, 0, 0, 1, 0, 0, 0]\n",
    "]\n",
    "\n",
    "# iterate over picture\n",
    "# if 0 --> print ''\n",
    "# if 1 --> print '*'\n",
    "\n",
    "for image in picture:\n",
    "    for pixel in image:\n",
    "        if (pixel == 1):\n",
    "            print('*', end='')\n",
    "        else:\n",
    "            print(' ', end='')\n",
    "    print('')"
   ]
  },
  {
   "cell_type": "code",
   "execution_count": 23,
   "id": "41597608-7b98-496a-91af-429c98274cdd",
   "metadata": {},
   "outputs": [],
   "source": [
    "# Clean coding:\n",
    "# - Clean\n",
    "# - Readability\n",
    "# - Predictability\n",
    "# - DRY (Do not Repeat Yourself)"
   ]
  },
  {
   "cell_type": "code",
   "execution_count": 24,
   "id": "ac5c5960-b47a-4ee6-9951-f757faaaf926",
   "metadata": {},
   "outputs": [
    {
     "name": "stdout",
     "output_type": "stream",
     "text": [
      "   *   \n",
      "  ***  \n",
      " ***** \n",
      "*******\n",
      "   *   \n",
      "   *   \n"
     ]
    }
   ],
   "source": [
    "fill = '*'\n",
    "empty = ''\n",
    "for image in picture:\n",
    "    for pixel in image:\n",
    "        if pixel:\n",
    "            print(fill, end='')\n",
    "        else:\n",
    "            print(empty, end='')\n",
    "    print('')"
   ]
  },
  {
   "cell_type": "code",
   "execution_count": 30,
   "id": "d106348d-10b4-49a3-b98f-014806e53d91",
   "metadata": {},
   "outputs": [
    {
     "name": "stdout",
     "output_type": "stream",
     "text": [
      "['b', 'n']\n"
     ]
    }
   ],
   "source": [
    "# check for duplicates\n",
    "\n",
    "some_list = ['a', 'b', 'c', 'b', 'd', 'm', 'n', 'n']\n",
    "\n",
    "duplicates = []\n",
    "\n",
    "for value in some_list:\n",
    "    if some_list.count(value) > 1:\n",
    "        if value not in duplicates:\n",
    "            duplicates.append(value)\n",
    "\n",
    "print(duplicates)"
   ]
  },
  {
   "cell_type": "code",
   "execution_count": 8,
   "id": "74e93f52-b0b3-4eca-b405-55fc87019bf9",
   "metadata": {},
   "outputs": [
    {
     "name": "stdout",
     "output_type": "stream",
     "text": [
      "Hello!\n",
      "<function say_hello at 0x00000264F1605DA0>\n"
     ]
    }
   ],
   "source": [
    "# Functions\n",
    "\n",
    "def say_hello():\n",
    "    print(\"Hello!\")\n",
    "\n",
    "say_hello()\n",
    "\n",
    "print (say_hello) # this will print the location in memory"
   ]
  },
  {
   "cell_type": "code",
   "execution_count": 10,
   "id": "0566397c-4523-45ba-9e62-2450634998c8",
   "metadata": {},
   "outputs": [
    {
     "name": "stdout",
     "output_type": "stream",
     "text": [
      "Hello F S!\n"
     ]
    }
   ],
   "source": [
    "# arguments and parameters\n",
    "# (positional) parameters \n",
    "def say_hello(name, surname): # parameters\n",
    "    print(f\"Hello {name} {surname}!\")\n",
    "\n",
    "say_hello(\"F\", \"S\") # (positional) arguments --> actual values we provide to a function"
   ]
  },
  {
   "cell_type": "code",
   "execution_count": 16,
   "id": "b4aaa982-7146-46d7-a79f-a048dec07430",
   "metadata": {},
   "outputs": [
    {
     "name": "stdout",
     "output_type": "stream",
     "text": [
      "Hello F P!\n",
      "Hello John Doe!\n",
      "Hello Jane Doe!\n"
     ]
    }
   ],
   "source": [
    "# Default parameters & keyword arguments\n",
    "\n",
    "# Keyword arguments --> not worry about position\n",
    "say_hello(surname='P', name='F') # ---> THIS IS BAD PRACTICE, confusing\n",
    "\n",
    "# Default parameters\n",
    "def default_say_hello(name='John', surname='Doe'): # parameters\n",
    "    print(f\"Hello {name} {surname}!\")\n",
    "\n",
    "default_say_hello()\n",
    "\n",
    "default_say_hello('Jane')"
   ]
  },
  {
   "cell_type": "code",
   "execution_count": 30,
   "id": "a9e41722-83c5-4859-9b1f-ee61daef1c6f",
   "metadata": {},
   "outputs": [
    {
     "name": "stdout",
     "output_type": "stream",
     "text": [
      "3\n",
      "10\n",
      "20\n",
      "25\n"
     ]
    }
   ],
   "source": [
    "# return\n",
    "def sum(a, b):\n",
    "    return a + b\n",
    "    # 'return' automatically exits the function\n",
    "    # *line of code here* would not be executed\n",
    "    # a function should do ONE thing really well\n",
    "\n",
    "print(sum(1, 2))\n",
    "total = sum(5,5)\n",
    "print(total)\n",
    "\n",
    "print(sum(10, total))\n",
    "\n",
    "print(sum(10, sum(10, 5)))"
   ]
  },
  {
   "cell_type": "code",
   "execution_count": 28,
   "id": "0a3aa8a6-c362-4339-b7e9-38be5a56f14c",
   "metadata": {},
   "outputs": [
    {
     "name": "stdout",
     "output_type": "stream",
     "text": [
      "5\n"
     ]
    }
   ],
   "source": [
    "def sum(a, b):\n",
    "    def another_funct(num1, num2):\n",
    "        return num1 + num2\n",
    "    return another_funct(a, b)\n",
    "\n",
    "print(sum(2, 3))"
   ]
  },
  {
   "cell_type": "code",
   "execution_count": null,
   "id": "4f68068d-d4a9-4f32-816c-53e98be338bf",
   "metadata": {},
   "outputs": [],
   "source": [
    "# Methods vs functions\n",
    "# (built- in) functions: list() print() max() min() input()\n",
    "# methods: .someMethod() --> has to be owned by an obj/datatype (strings, tuples, etc)"
   ]
  },
  {
   "cell_type": "code",
   "execution_count": 42,
   "id": "0461e6f0-9273-45f0-a9e5-0033722ce56f",
   "metadata": {},
   "outputs": [
    {
     "name": "stdout",
     "output_type": "stream",
     "text": [
      "miau\n",
      "Help on function test in module __main__:\n",
      "\n",
      "test(a)\n",
      "    Info: This function tests and prints param a\n",
      "\n",
      "\n",
      "    Info: This function tests and prints param a\n",
      "    \n"
     ]
    }
   ],
   "source": [
    "# Docstrings\n",
    "def test (a):\n",
    "    '''\n",
    "    Info: This function tests and prints param a\n",
    "    '''\n",
    "    print(a)\n",
    "\n",
    "test(\"miau\")\n",
    "\n",
    "help(test)\n",
    "\n",
    "test.__doc__\n",
    "\n",
    "print(test.__doc__)\n"
   ]
  },
  {
   "cell_type": "code",
   "execution_count": 51,
   "id": "58cb2130-6d1a-4553-ad02-6d6bc570fc47",
   "metadata": {},
   "outputs": [
    {
     "name": "stdout",
     "output_type": "stream",
     "text": [
      "False\n"
     ]
    }
   ],
   "source": [
    "# Clean code\n",
    "\n",
    "def is_even(num): \n",
    "   return num % 2 == 0\n",
    "\n",
    "print(is_even(51))"
   ]
  },
  {
   "cell_type": "code",
   "execution_count": 2,
   "id": "3a04439e-8485-42e6-911a-412ef5caf74b",
   "metadata": {},
   "outputs": [
    {
     "name": "stdout",
     "output_type": "stream",
     "text": [
      "1 2 3 4 5\n",
      "(1, 2, 3, 4, 5)\n",
      "15\n"
     ]
    }
   ],
   "source": [
    "# *args and **kwargs\n",
    "\n",
    "def super_func(*args):\n",
    "    print(*args)\n",
    "    print(args)\n",
    "    return sum(args)\n",
    "\n",
    "print(super_func(1, 2, 3, 4, 5))"
   ]
  },
  {
   "cell_type": "code",
   "execution_count": 7,
   "id": "cdbda7a4-5903-4d06-8cf3-a8023f65c3f1",
   "metadata": {},
   "outputs": [
    {
     "name": "stdout",
     "output_type": "stream",
     "text": [
      "30\n",
      "30\n"
     ]
    }
   ],
   "source": [
    "def super_func(*args, **kwargs):\n",
    "    total = 0\n",
    "    for items in kwargs.values():\n",
    "        total += items\n",
    "    return sum(args) + total\n",
    "    \n",
    "print(super_func(1, 2, 3, 4, 5, num1 = 5, num2 = 10))\n",
    "\n",
    "# RULE of ordering: params, *args, default parameters, **kwargs\n",
    "\n",
    "def super_func(name, *args, i ='hi', **kwargs): # you almost ever write like this \n",
    "    total = 0\n",
    "    for items in kwargs.values():\n",
    "        total += items\n",
    "    return sum(args) + total\n",
    "    \n",
    "print(super_func('FSP', 1, 2, 3, 4, 5, num1 = 5, num2 = 10))\n"
   ]
  },
  {
   "cell_type": "code",
   "execution_count": 9,
   "id": "b0b433df-69fe-4380-a3f2-614e6488c227",
   "metadata": {},
   "outputs": [
    {
     "name": "stdout",
     "output_type": "stream",
     "text": [
      "10\n"
     ]
    }
   ],
   "source": [
    "def highest_even(list):\n",
    "    list.sort()\n",
    "    rev_list = list[::-1]\n",
    "    for i in rev_list: \n",
    "        if i % 2 == 0:\n",
    "            return i\n",
    "    return 0        \n",
    "\n",
    "print(highest_even([10, 2, 3, 4, 8, 11]))"
   ]
  },
  {
   "cell_type": "code",
   "execution_count": 3,
   "id": "708965f9-709e-4854-8e01-9a0c7c8ad473",
   "metadata": {},
   "outputs": [
    {
     "name": "stdout",
     "output_type": "stream",
     "text": [
      "<built-in function sum>\n",
      "5\n"
     ]
    }
   ],
   "source": [
    "# Scope - what variables do I have access to?\n",
    "\n",
    "total = 100 # global scope --> everybody has access to it\n",
    "\n",
    "a = 1 # global\n",
    "\n",
    "def parent():\n",
    "    # a = 10\n",
    "    def confusion():\n",
    "        # a = 10\n",
    "        # # return a\n",
    "        return sum\n",
    "    return confusion()\n",
    "\n",
    "print(parent())\n",
    "print(confusion())\n",
    "\n",
    "# 1 - start with local scope\n",
    "# 2 - Parent local scope\n",
    "# 3 - Global\n",
    "# 4 - built in python functions"
   ]
  },
  {
   "cell_type": "code",
   "execution_count": 6,
   "id": "e2def794-f07d-4b23-bb66-dd0f75a75ebb",
   "metadata": {},
   "outputs": [
    {
     "name": "stdout",
     "output_type": "stream",
     "text": [
      "300\n",
      "2\n",
      "3\n"
     ]
    }
   ],
   "source": [
    "# global keyword\n",
    "\n",
    "a = 10 \n",
    "\n",
    "def confusion(b):\n",
    "    print(b)\n",
    "    a = 90\n",
    "\n",
    "confusion(300)\n",
    "\n",
    "total = 0 \n",
    "\n",
    "def count():\n",
    "    # total += 1 # this won t work, no global access\n",
    "    global  total\n",
    "    total += 1\n",
    "    return total\n",
    "    # but this is not a good way of doing this\n",
    "\n",
    "count()\n",
    "print(count())\n",
    "\n",
    "# use DEPENDENCY INJECTION\n",
    "\n",
    "total = 0\n",
    "\n",
    "def count(total):\n",
    "    total += 1\n",
    "    return total\n",
    "\n",
    "print(count(count(count(total))))"
   ]
  },
  {
   "cell_type": "code",
   "execution_count": 9,
   "id": "edd8be6e-fde3-4917-a777-88598f8e6dcd",
   "metadata": {},
   "outputs": [
    {
     "name": "stdout",
     "output_type": "stream",
     "text": [
      "inner: nonlocal\n",
      "outer: nonlocal\n",
      "----------------\n",
      "inner: nonlocal\n",
      "outer: local\n"
     ]
    }
   ],
   "source": [
    "# nonlocal keyword\n",
    "\n",
    "def outer():\n",
    "    x = \"local\"\n",
    "    def inner():\n",
    "        nonlocal x\n",
    "        x = \"nonlocal\"\n",
    "        print(\"inner:\", x)\n",
    "\n",
    "    inner()\n",
    "    print(\"outer:\", x)\n",
    "\n",
    "outer()\n",
    "print(\"----------------\")\n",
    "\n",
    "def outer():\n",
    "    x = \"local\"\n",
    "    def inner():\n",
    "        # nonlocal x\n",
    "        x = \"nonlocal\"\n",
    "        print(\"inner:\", x)\n",
    "\n",
    "    inner()\n",
    "    print(\"outer:\", x)\n",
    "\n",
    "outer()"
   ]
  },
  {
   "cell_type": "code",
   "execution_count": null,
   "id": "41da37d4-c8d8-4917-890b-46389a48e85b",
   "metadata": {},
   "outputs": [],
   "source": []
  }
 ],
 "metadata": {
  "kernelspec": {
   "display_name": "pythonWork",
   "language": "python",
   "name": "pythonwork"
  },
  "language_info": {
   "codemirror_mode": {
    "name": "ipython",
    "version": 3
   },
   "file_extension": ".py",
   "mimetype": "text/x-python",
   "name": "python",
   "nbconvert_exporter": "python",
   "pygments_lexer": "ipython3",
   "version": "3.12.2"
  }
 },
 "nbformat": 4,
 "nbformat_minor": 5
}
